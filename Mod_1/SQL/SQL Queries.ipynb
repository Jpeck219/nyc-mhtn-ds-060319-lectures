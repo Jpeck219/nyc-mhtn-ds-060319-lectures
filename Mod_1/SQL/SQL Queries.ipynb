{
 "cells": [
  {
   "cell_type": "markdown",
   "metadata": {},
   "source": [
    "<h1 style='text-align: center'>SQL Queries</h1>"
   ]
  },
  {
   "cell_type": "markdown",
   "metadata": {},
   "source": [
    "## Getting Data From A SQL Database"
   ]
  },
  {
   "cell_type": "markdown",
   "metadata": {},
   "source": [
    "### The Structure of a SQL Query"
   ]
  },
  {
   "cell_type": "markdown",
   "metadata": {},
   "source": [
    "<img src='images/sql_statement.jpg'/>"
   ]
  },
  {
   "cell_type": "markdown",
   "metadata": {},
   "source": [
    "#### SELECT"
   ]
  },
  {
   "cell_type": "markdown",
   "metadata": {},
   "source": [
    "- What columns of data do we want? \n",
    "- Specify by column names or * (All) "
   ]
  },
  {
   "cell_type": "markdown",
   "metadata": {},
   "source": [
    "- Where are we getting our data from? \n",
    "- Specify by table name or use join statement to join multiple tables"
   ]
  },
  {
   "cell_type": "markdown",
   "metadata": {},
   "source": [
    "##### JOIN "
   ]
  },
  {
   "cell_type": "markdown",
   "metadata": {},
   "source": [
    "- Use to join multiple tables \n",
    "- SELECT * FROM students join favorite_foods on students.id = favorite_foods.student_id\n",
    "- SELECT * FROM students as s join favorite_foods as f on s.id = f.student_id"
   ]
  },
  {
   "cell_type": "markdown",
   "metadata": {},
   "source": [
    "#### WHERE"
   ]
  },
  {
   "cell_type": "markdown",
   "metadata": {},
   "source": [
    "- apply some filter to the data you are querying \n",
    "- define criteria for data that should selected from the database \n",
    "- SELECT * from students WHERE age > 10 "
   ]
  },
  {
   "cell_type": "markdown",
   "metadata": {},
   "source": [
    "#### GROUP BY"
   ]
  },
  {
   "cell_type": "markdown",
   "metadata": {},
   "source": [
    "- Group columns by similar values\n",
    "- SELECT COUNT(id), city from students GROUP BY city"
   ]
  },
  {
   "cell_type": "markdown",
   "metadata": {},
   "source": [
    "#### HAVING"
   ]
  },
  {
   "cell_type": "markdown",
   "metadata": {},
   "source": [
    "- Use to apply filter AFTER you have made your initial query \n",
    "- When should we use HAVING instead of WHERE"
   ]
  },
  {
   "cell_type": "code",
   "execution_count": 36,
   "metadata": {},
   "outputs": [],
   "source": [
    "import sqlite3\n",
    "\n",
    "conn = sqlite3.connect('tutorial.db')\n",
    "c = conn.cursor()"
   ]
  },
  {
   "cell_type": "code",
   "execution_count": 4,
   "metadata": {},
   "outputs": [],
   "source": [
    "# Load students.json file\n",
    "\n",
    "#your code here\n",
    "import json\n",
    "f=open('students.json','r')\n",
    "data=json.load(f)"
   ]
  },
  {
   "cell_type": "code",
   "execution_count": 6,
   "metadata": {},
   "outputs": [
    {
     "data": {
      "text/plain": [
       "{'name': 'Sean Abu Wilson',\n",
       " 'birthdate': '02/06',\n",
       " 'siblings': 2,\n",
       " 'Birthplace': 'Birmingham, AL',\n",
       " 'yearsinnyc': 7.8,\n",
       " 'favoritefood': 'guacamole'}"
      ]
     },
     "execution_count": 6,
     "metadata": {},
     "output_type": "execute_result"
    }
   ],
   "source": [
    "# iterate over the data and insert each student into the DB\n",
    "data[0]"
   ]
  },
  {
   "cell_type": "code",
   "execution_count": 37,
   "metadata": {
    "scrolled": true
   },
   "outputs": [
    {
     "data": {
      "text/plain": [
       "<sqlite3.Cursor at 0x104a73490>"
      ]
     },
     "execution_count": 37,
     "metadata": {},
     "output_type": "execute_result"
    }
   ],
   "source": [
    "c.execute(\"drop table studentInfo\")"
   ]
  },
  {
   "cell_type": "code",
   "execution_count": 38,
   "metadata": {},
   "outputs": [],
   "source": [
    "conn.commit()"
   ]
  },
  {
   "cell_type": "code",
   "execution_count": 39,
   "metadata": {},
   "outputs": [],
   "source": [
    "c.execute('''CREATE TABLE IF NOT EXISTS studentInfo (name TEXT, birthdate TEXT, siblings INTEGER, birthplace \n",
    "TEXT, yearsinnyc INTEGER, favoritefood TEXT)''')\n",
    "\n",
    "conn.commit()"
   ]
  },
  {
   "cell_type": "code",
   "execution_count": 44,
   "metadata": {},
   "outputs": [],
   "source": [
    "# dynamic data entry example\n",
    "def dynamic_data_entry(person):\n",
    "    c.execute(\"\"\"INSERT INTO studentInfo (name, birthdate, siblings, birthplace, yearsinnyc, favoritefood) \n",
    "    VALUES (?, ?, ?, ?, ?, ?)\"\"\",\n",
    "          (person['name'], person['birthdate'], person['siblings'], person['Birthplace'], person['yearsinnyc'], person['favoritefood']))\n",
    "    \n",
    "# c.close\n",
    "# conn.close"
   ]
  },
  {
   "cell_type": "code",
   "execution_count": 45,
   "metadata": {},
   "outputs": [],
   "source": [
    "for person in data: \n",
    "    dynamic_data_entry(person)"
   ]
  },
  {
   "cell_type": "code",
   "execution_count": 47,
   "metadata": {},
   "outputs": [
    {
     "data": {
      "text/plain": [
       "[('Sean Abu Wilson', '02/06', 2, 'Birmingham, AL', 7.8, 'guacamole'),\n",
       " ('Tawab', '04/08/1998', 4, 'Afghanistan', 0.5, 'pizza'),\n",
       " ('Bridget Boakye', '1990-07-13', 3, 'Accra', 15, 'Indian'),\n",
       " ('Cristina', '9/9/1990', 2, 'Spain', 6, 'Sushi'),\n",
       " ('Danny (Haoyang) Yu', '1997-03-19', 2, '1997-03-19', 0, 'Galbi'),\n",
       " ('Dustin_Breitner', '04/15/94', 2, 'New_York', 3, 'Pizza'),\n",
       " ('Gregory DeSantis', '1987-11-23', 2, 'Highland Park, NJ', 13, 'Pizza'),\n",
       " ('Harrison Miller', '10/2/85', 0, 'New Jersey', 0, 'Pizza'),\n",
       " ('Jeremy Owens', '03/30/1990', 0, 'Virginia', 6, 'Avocado'),\n",
       " ('Jeremy Reikes', '1-/12/1995', 1, 'New York City', 23, 'Pizza'),\n",
       " ('Jonathan Peck', '02-19-1994', 2, 'New York', 25, 'Moms food'),\n",
       " ('Minna F', '11-19-1996', 3, 'San Francisco', 1, 'sushi'),\n",
       " ('Nabil Abbas', '12-07-1994', 2, 'Long Island', 6, 'Gyro'),\n",
       " ('Natalie Del Rossi', '10-23-1994', 0, 'Brooklyn', 18, 'pizza'),\n",
       " ('Remy Canario', '10-11-1988', 0, 'New York', 28, 'toast'),\n",
       " ('Xristos Katsaros', '03-24-1986', 1, 'Chicago Heights, IL', 3, 'Pizza')]"
      ]
     },
     "execution_count": 47,
     "metadata": {},
     "output_type": "execute_result"
    }
   ],
   "source": [
    "c.execute(\"\"\"select * from studentInfo\"\"\").fetchall()"
   ]
  },
  {
   "cell_type": "markdown",
   "metadata": {},
   "source": [
    "### Questions\n",
    "1. What are the names of all of the students?\n",
    "2. Which student has the most siblings?\n",
    "3. How many students are only children?\n",
    "4. Which 3 students have lived in NYC the shortest amount of time?\n",
    "5. How many students are native New Yorkers?\n",
    "6. Do any two students have the same favorite food?\n",
    "7. Which student was born closest to the cohort's graduation date?"
   ]
  },
  {
   "cell_type": "code",
   "execution_count": 49,
   "metadata": {},
   "outputs": [
    {
     "data": {
      "text/plain": [
       "[('Sean Abu Wilson',),\n",
       " ('Tawab',),\n",
       " ('Bridget Boakye',),\n",
       " ('Cristina',),\n",
       " ('Danny (Haoyang) Yu',),\n",
       " ('Dustin_Breitner',),\n",
       " ('Gregory DeSantis',),\n",
       " ('Harrison Miller',),\n",
       " ('Jeremy Owens',),\n",
       " ('Jeremy Reikes',),\n",
       " ('Jonathan Peck',),\n",
       " ('Minna F',),\n",
       " ('Nabil Abbas',),\n",
       " ('Natalie Del Rossi',),\n",
       " ('Remy Canario',),\n",
       " ('Xristos Katsaros',)]"
      ]
     },
     "execution_count": 49,
     "metadata": {},
     "output_type": "execute_result"
    }
   ],
   "source": [
    "c.execute(\"\"\"select name from studentInfo\"\"\").fetchall()"
   ]
  },
  {
   "cell_type": "code",
   "execution_count": 63,
   "metadata": {},
   "outputs": [
    {
     "data": {
      "text/plain": [
       "[('Tawab', 4)]"
      ]
     },
     "execution_count": 63,
     "metadata": {},
     "output_type": "execute_result"
    }
   ],
   "source": [
    "c.execute(\"\"\"select name, siblings from studentInfo \n",
    "where siblings=(select max(siblings) from studentInfo)\"\"\").fetchall()"
   ]
  },
  {
   "cell_type": "code",
   "execution_count": 54,
   "metadata": {},
   "outputs": [
    {
     "data": {
      "text/plain": [
       "[(4,)]"
      ]
     },
     "execution_count": 54,
     "metadata": {},
     "output_type": "execute_result"
    }
   ],
   "source": [
    "c.execute(\"\"\"select count(*) from studentInfo\n",
    "where siblings = 0\"\"\").fetchall()"
   ]
  },
  {
   "cell_type": "code",
   "execution_count": 65,
   "metadata": {},
   "outputs": [
    {
     "data": {
      "text/plain": [
       "[('Danny (Haoyang) Yu', '1997-03-19', 2, '1997-03-19', 0, 'Galbi'),\n",
       " ('Harrison Miller', '10/2/85', 0, 'New Jersey', 0, 'Pizza'),\n",
       " ('Tawab', '04/08/1998', 4, 'Afghanistan', 0.5, 'pizza')]"
      ]
     },
     "execution_count": 65,
     "metadata": {},
     "output_type": "execute_result"
    }
   ],
   "source": [
    "c.execute(\"\"\"select * from studentInfo\n",
    "ORDER BY yearsinnyc ASC\n",
    "limit 3\"\"\").fetchall()"
   ]
  },
  {
   "cell_type": "code",
   "execution_count": 69,
   "metadata": {},
   "outputs": [
    {
     "data": {
      "text/plain": [
       "[('Jonathan Peck', '02-19-1994', 2, 'New York', 25, 'Moms food'),\n",
       " ('Remy Canario', '10-11-1988', 0, 'New York', 28, 'toast')]"
      ]
     },
     "execution_count": 69,
     "metadata": {},
     "output_type": "execute_result"
    }
   ],
   "source": [
    "c.execute(\"\"\"select * from studentInfo where birthplace = 'New York'\"\"\").fetchall()"
   ]
  },
  {
   "cell_type": "code",
   "execution_count": 70,
   "metadata": {},
   "outputs": [
    {
     "data": {
      "text/plain": [
       "[(5,)]"
      ]
     },
     "execution_count": 70,
     "metadata": {},
     "output_type": "execute_result"
    }
   ],
   "source": [
    "c.execute(\"\"\"SELECT count(*) from studentInfo where birthplace in ('New York', 'New_York', 'Long Island', 'Brooklyn')\"\"\").fetchall()"
   ]
  },
  {
   "cell_type": "code",
   "execution_count": 77,
   "metadata": {},
   "outputs": [
    {
     "data": {
      "text/plain": [
       "[('Pizza', 7), ('sushi', 2)]"
      ]
     },
     "execution_count": 77,
     "metadata": {},
     "output_type": "execute_result"
    }
   ],
   "source": [
    "c.execute(\"\"\"SELECT favoritefood , count(*) from studentInfo\n",
    "group by favoritefood COLLATE NOCASE\n",
    "having count(*) > 1\"\"\").fetchall()"
   ]
  },
  {
   "cell_type": "code",
   "execution_count": null,
   "metadata": {},
   "outputs": [],
   "source": []
  }
 ],
 "metadata": {
  "kernelspec": {
   "display_name": "Python 3",
   "language": "python",
   "name": "python3"
  },
  "language_info": {
   "codemirror_mode": {
    "name": "ipython",
    "version": 3
   },
   "file_extension": ".py",
   "mimetype": "text/x-python",
   "name": "python",
   "nbconvert_exporter": "python",
   "pygments_lexer": "ipython3",
   "version": "3.6.6"
  }
 },
 "nbformat": 4,
 "nbformat_minor": 2
}
