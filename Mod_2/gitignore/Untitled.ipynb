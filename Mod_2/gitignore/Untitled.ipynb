{
 "cells": [
  {
   "cell_type": "code",
   "execution_count": 1,
   "metadata": {},
   "outputs": [
    {
     "data": {
      "text/plain": [
       "'sihT thgim ?krow'"
      ]
     },
     "execution_count": 1,
     "metadata": {},
     "output_type": "execute_result"
    }
   ],
   "source": [
    "# Complete the function that accepts a string parameter, and reverses each word\n",
    "#in the string. All spaces in the string should be retained.\n",
    "#\n",
    "# “This is an example!” ==> “sihT si na !elpmaxe”\n",
    "# “double  spaces”      ==> “elbuod  secaps”\n",
    "\n",
    "\n",
    "def reverseWordSentence(Sentence): \n",
    "    # Spliting the Sentence into list of words. \n",
    "    words = Sentence.split(\" \") \n",
    "      \n",
    "    # Reversing each word and creating \n",
    "    # a new list of words \n",
    "    # List Comprehension Technique \n",
    "    newWords = [word[::-1] for word in words] \n",
    "      \n",
    "    # Joining the new list of words \n",
    "    # to for a new Sentence \n",
    "    newSentence = \" \".join(newWords) \n",
    "  \n",
    "    return newSentence\n",
    "reverseWordSentence('This might work?')"
   ]
  },
  {
   "cell_type": "code",
   "execution_count": 9,
   "metadata": {},
   "outputs": [
    {
     "data": {
      "text/plain": [
       "'sihT thgim ?kroW'"
      ]
     },
     "execution_count": 9,
     "metadata": {},
     "output_type": "execute_result"
    }
   ],
   "source": [
    "def reverseWordSentences(Sentence):  \n",
    "    return ' '.join(word[::-1] for word in Sentence.split(\" \"))\n",
    "reverseWordSentences('This might Work?')"
   ]
  },
  {
   "cell_type": "code",
   "execution_count": null,
   "metadata": {},
   "outputs": [],
   "source": []
  }
 ],
 "metadata": {
  "kernelspec": {
   "display_name": "Python 3",
   "language": "python",
   "name": "python3"
  },
  "language_info": {
   "codemirror_mode": {
    "name": "ipython",
    "version": 3
   },
   "file_extension": ".py",
   "mimetype": "text/x-python",
   "name": "python",
   "nbconvert_exporter": "python",
   "pygments_lexer": "ipython3",
   "version": "3.7.3"
  }
 },
 "nbformat": 4,
 "nbformat_minor": 2
}
